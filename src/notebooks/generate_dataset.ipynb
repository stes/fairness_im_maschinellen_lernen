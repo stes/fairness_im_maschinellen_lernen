{
 "cells": [
  {
   "cell_type": "code",
   "execution_count": null,
   "metadata": {},
   "outputs": [],
   "source": [
    "import altair as alt\n",
    "import numpy as np\n",
    "import polars as pl"
   ]
  },
  {
   "cell_type": "code",
   "execution_count": null,
   "metadata": {},
   "outputs": [],
   "source": [
    "n = 1000\n",
    "std1 = 10\n",
    "mu1 = 50\n",
    "\n",
    "std2 = 10\n",
    "mu2 = 70\n",
    "\n",
    "df = (\n",
    "    pl.concat(\n",
    "        [\n",
    "            pl.DataFrame(\n",
    "                {\"score\": np.random.randn(n) * std1 + mu1, \"age\": [\"young\"] * n}\n",
    "            ),\n",
    "            pl.DataFrame(\n",
    "                {\"score\": np.random.randn(n) * std2 + mu2, \"age\": [\"old\"] * n}\n",
    "            ),\n",
    "        ]\n",
    "    )\n",
    "    .with_columns(\n",
    "        pays_back=pl.col(\"score\").map_elements(\n",
    "            lambda s: True if np.random.rand() < s / 100 else False,\n",
    "            return_dtype=pl.Boolean,\n",
    "        )\n",
    "    )\n",
    "    .with_columns(score=pl.col(\"score\").round())\n",
    ").with_columns(\n",
    "        type=pl.when(pl.col(\"pays_back\") ==False)\n",
    "        .then(pl.lit(\"Zahlt nicht zurück\"))\n",
    "        .otherwise(pl.lit(\"Zahlt zurück\"))\n",
    "        .alias(\"status\")\n",
    "    ).with_columns(pl.col(\"score\").cast(pl.Int64)).filter(pl.col(\"score\").is_between(0,100))\n",
    "\n",
    "\n",
    "\n",
    "df.write_csv(\"../data/user/distribution.csv\")"
   ]
  },
  {
   "cell_type": "code",
   "execution_count": null,
   "metadata": {},
   "outputs": [],
   "source": [
    "base = alt.Chart(df).transform_window(id=\"rank()\", groupby=[\"score\"])\n",
    "(\n",
    "    base.mark_point(filled=True, opacity=1, size=30).encode(\n",
    "        x=alt.X(\"score:Q\").scale(domain=[-4, 104]).title(\"Score\"),\n",
    "        y=alt.Y(\"id:O\").axis(None).sort(\"descending\"),\n",
    "        color=alt.Color(\"age:N\"),\n",
    "        opacity=alt.Opacity(\"pays_back:N\", scale=alt.Scale(range=[0.4, 1])),\n",
    "    )\n",
    ").properties(width=600, height=400)"
   ]
  },
  {
   "cell_type": "code",
   "execution_count": null,
   "metadata": {},
   "outputs": [],
   "source": [
    "base = alt.Chart(df).transform_window(id=\"rank()\", groupby=[\"score\", \"age\"])\n",
    "(\n",
    "    base.mark_point(filled=True, opacity=1, size=30).encode(\n",
    "        x=alt.X(\"score:Q\").scale(domain=[-4, 104]).title(\"Score\"),\n",
    "        y=alt.Y(\"id:O\").axis(None).sort(\"descending\"),\n",
    "        color=alt.Color(\"age:N\"),\n",
    "        opacity=alt.Opacity(\"pays_back:N\", scale=alt.Scale(range=[0.4, 1])),\n",
    "        row=\"age:N\",\n",
    "    )\n",
    ").properties(width=600, height=400)"
   ]
  },
  {
   "cell_type": "code",
   "execution_count": null,
   "metadata": {},
   "outputs": [],
   "source": []
  }
 ],
 "metadata": {
  "kernelspec": {
   "display_name": "Python 3",
   "language": "python",
   "name": "python3"
  },
  "language_info": {
   "codemirror_mode": {
    "name": "ipython",
    "version": 3
   },
   "file_extension": ".py",
   "mimetype": "text/x-python",
   "name": "python",
   "nbconvert_exporter": "python",
   "pygments_lexer": "ipython3",
   "version": "3.11.10"
  }
 },
 "nbformat": 4,
 "nbformat_minor": 2
}
